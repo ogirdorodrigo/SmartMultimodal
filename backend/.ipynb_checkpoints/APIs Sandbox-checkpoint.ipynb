{
 "cells": [
  {
   "cell_type": "markdown",
   "metadata": {},
   "source": [
    "# Weather API"
   ]
  },
  {
   "cell_type": "code",
   "execution_count": 1,
   "metadata": {},
   "outputs": [],
   "source": [
    "import requests"
   ]
  },
  {
   "cell_type": "code",
   "execution_count": 21,
   "metadata": {},
   "outputs": [],
   "source": [
    "with open('weatherapi_key.txt', 'r') as f:\n",
    "    weatherapi_key = f.read()[:-1]"
   ]
  },
  {
   "cell_type": "code",
   "execution_count": 22,
   "metadata": {},
   "outputs": [
    {
     "name": "stdout",
     "output_type": "stream",
     "text": [
      "{\"coord\":{\"lon\":52.45,\"lat\":13.39},\"weather\":[{\"id\":800,\"main\":\"Clear\",\"description\":\"clear sky\",\"icon\":\"01d\"}],\"base\":\"model\",\"main\":{\"temp\":23.8,\"feels_like\":20.6,\"temp_min\":23.8,\"temp_max\":23.8,\"pressure\":1016,\"humidity\":66,\"sea_level\":1016,\"grnd_level\":1016},\"wind\":{\"speed\":8.01,\"deg\":70},\"clouds\":{\"all\":0},\"dt\":1581775986,\"sys\":{\"country\":\"YE\",\"sunrise\":1581735210,\"sunset\":1581777329},\"timezone\":10800,\"id\":73685,\"name\":\"Kilmia\",\"cod\":200}\n"
     ]
    }
   ],
   "source": [
    "# Sample starting point\n",
    "lon = 52.4534017\n",
    "lat = 13.3851990\n",
    "surl = f'http://api.openweathermap.org/data/2.5/weather?lat={lat}&lon={lon}&units=metric&appid={weatherapi_key}'\n",
    "r = requests.get(url=surl)\n",
    "print(r.text)"
   ]
  },
  {
   "cell_type": "code",
   "execution_count": null,
   "metadata": {},
   "outputs": [],
   "source": []
  }
 ],
 "metadata": {
  "kernelspec": {
   "display_name": "Python 3",
   "language": "python",
   "name": "python3"
  },
  "language_info": {
   "codemirror_mode": {
    "name": "ipython",
    "version": 3
   },
   "file_extension": ".py",
   "mimetype": "text/x-python",
   "name": "python",
   "nbconvert_exporter": "python",
   "pygments_lexer": "ipython3",
   "version": "3.7.6"
  }
 },
 "nbformat": 4,
 "nbformat_minor": 4
}
