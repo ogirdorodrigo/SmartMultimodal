{
 "cells": [
  {
   "cell_type": "markdown",
   "metadata": {},
   "source": [
    "# Weather API"
   ]
  },
  {
   "cell_type": "code",
   "execution_count": 5,
   "metadata": {},
   "outputs": [],
   "source": [
    "import requests\n",
    "import json"
   ]
  },
  {
   "cell_type": "code",
   "execution_count": 2,
   "metadata": {},
   "outputs": [],
   "source": [
    "with open('weatherapi_key.txt', 'r') as f:\n",
    "    weatherapi_key = f.read()[:-1]"
   ]
  },
  {
   "cell_type": "code",
   "execution_count": 12,
   "metadata": {},
   "outputs": [
    {
     "name": "stdout",
     "output_type": "stream",
     "text": [
      "{\"coord\":{\"lon\":13.39,\"lat\":52.45},\"weather\":[{\"id\":804,\"main\":\"Clouds\",\"description\":\"overcast clouds\",\"icon\":\"04d\"}],\"base\":\"stations\",\"main\":{\"temp\":10.44,\"feels_like\":4.15,\"temp_min\":9.44,\"temp_max\":11.11,\"pressure\":1019,\"humidity\":66},\"visibility\":10000,\"wind\":{\"speed\":7.2,\"deg\":210},\"clouds\":{\"all\":89},\"dt\":1581778457,\"sys\":{\"type\":1,\"id\":1262,\"country\":\"DE\",\"sunrise\":1581747844,\"sunset\":1581783443},\"timezone\":3600,\"id\":2873606,\"name\":\"Mariendorf\",\"cod\":200}\n"
     ]
    }
   ],
   "source": [
    "# Sample starting point\n",
    "lon = 13.3851990\n",
    "lat = 52.4534017\n",
    "surl = f'http://api.openweathermap.org/data/2.5/weather?lat={lat}&lon={lon}&units=metric&appid={weatherapi_key}'\n",
    "r = requests.get(url=surl)\n",
    "print(r.text)"
   ]
  },
  {
   "cell_type": "code",
   "execution_count": 13,
   "metadata": {},
   "outputs": [
    {
     "data": {
      "text/plain": [
       "{'coord': {'lon': 13.39, 'lat': 52.45},\n",
       " 'weather': [{'id': 804,\n",
       "   'main': 'Clouds',\n",
       "   'description': 'overcast clouds',\n",
       "   'icon': '04d'}],\n",
       " 'base': 'stations',\n",
       " 'main': {'temp': 10.44,\n",
       "  'feels_like': 4.15,\n",
       "  'temp_min': 9.44,\n",
       "  'temp_max': 11.11,\n",
       "  'pressure': 1019,\n",
       "  'humidity': 66},\n",
       " 'visibility': 10000,\n",
       " 'wind': {'speed': 7.2, 'deg': 210},\n",
       " 'clouds': {'all': 89},\n",
       " 'dt': 1581778457,\n",
       " 'sys': {'type': 1,\n",
       "  'id': 1262,\n",
       "  'country': 'DE',\n",
       "  'sunrise': 1581747844,\n",
       "  'sunset': 1581783443},\n",
       " 'timezone': 3600,\n",
       " 'id': 2873606,\n",
       " 'name': 'Mariendorf',\n",
       " 'cod': 200}"
      ]
     },
     "execution_count": 13,
     "metadata": {},
     "output_type": "execute_result"
    }
   ],
   "source": [
    "weather = json.loads(r.text)\n",
    "weather"
   ]
  },
  {
   "cell_type": "code",
   "execution_count": 9,
   "metadata": {},
   "outputs": [
    {
     "data": {
      "text/plain": [
       "dict"
      ]
     },
     "execution_count": 9,
     "metadata": {},
     "output_type": "execute_result"
    }
   ],
   "source": [
    "description = weather.get('weather')[0].get('description')\n",
    "wind_speed = weather.get('wind').get('speed')\n",
    "wind_direction = weather.get('wind').get('deg')"
   ]
  },
  {
   "cell_type": "code",
   "execution_count": null,
   "metadata": {},
   "outputs": [],
   "source": []
  }
 ],
 "metadata": {
  "kernelspec": {
   "display_name": "Python 3",
   "language": "python",
   "name": "python3"
  },
  "language_info": {
   "codemirror_mode": {
    "name": "ipython",
    "version": 3
   },
   "file_extension": ".py",
   "mimetype": "text/x-python",
   "name": "python",
   "nbconvert_exporter": "python",
   "pygments_lexer": "ipython3",
   "version": "3.7.6"
  }
 },
 "nbformat": 4,
 "nbformat_minor": 4
}
